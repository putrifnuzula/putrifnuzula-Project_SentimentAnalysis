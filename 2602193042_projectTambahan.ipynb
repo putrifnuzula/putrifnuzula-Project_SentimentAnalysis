{
  "cells": [
    {
      "cell_type": "code",
      "execution_count": 333,
      "metadata": {
        "id": "Mi4CaflXnSYE"
      },
      "outputs": [],
      "source": [
        "import pandas as pd\n",
        "import random\n",
        "import matplotlib.pyplot as plt\n",
        "import seaborn as sns\n",
        "from sklearn.utils import shuffle\n",
        "from collections import Counter\n",
        "from wordcloud import WordCloud\n",
        "from nltk.stem import PorterStemmer\n",
        "import numpy as np\n",
        "from keras.utils import to_categorical\n",
        "from sklearn.metrics import confusion_matrix\n",
        "\n",
        "\n",
        "import tensorflow as tf\n",
        "from tensorflow.keras.preprocessing.text import Tokenizer\n",
        "from tensorflow.keras.preprocessing.sequence import pad_sequences\n",
        "from tensorflow.keras.layers import Embedding, LSTM, Dense, Bidirectional\n",
        "from tensorflow.keras.preprocessing.text import Tokenizer\n",
        "from tensorflow.keras.models import Sequential\n",
        "from tensorflow.keras.optimizers import Adam\n",
        "from tensorflow.keras.regularizers import l2\n",
        "from keras.callbacks import EarlyStopping\n"
      ]
    },
    {
      "cell_type": "markdown",
      "metadata": {},
      "source": [
        "Developing a GPT sentiment analysis model with LSTM is necessary to improve the efficiency of sentiment analysis models in specific tasks or domains. LSTM could help capture long-term connections in text data, leading to better results in sentiment analysis. Also leveraging the strengths of both models, integrating GPT and LSTM leads to enhance the efficiency of sentiment analysis models.\n"
      ]
    },
    {
      "cell_type": "markdown",
      "metadata": {
        "id": "eOnsIW8BhOWO"
      },
      "source": [
        "## 1. Read data"
      ]
    },
    {
      "cell_type": "code",
      "execution_count": 273,
      "metadata": {
        "colab": {
          "base_uri": "https://localhost:8080/"
        },
        "id": "K5tFqxzGvfQl",
        "outputId": "cbd6a117-1fc2-4869-855a-6dcf9c415518"
      },
      "outputs": [
        {
          "name": "stdout",
          "output_type": "stream",
          "text": [
            "Archive:  sentiment.zip\n",
            "replace file.csv? [y]es, [n]o, [A]ll, [N]one, [r]ename: A\n",
            "  inflating: file.csv                \n"
          ]
        }
      ],
      "source": [
        "!unzip sentiment.zip"
      ]
    },
    {
      "cell_type": "code",
      "execution_count": 274,
      "metadata": {
        "colab": {
          "base_uri": "https://localhost:8080/"
        },
        "id": "pexJnUp-wjtE",
        "outputId": "726c9029-f0b6-4ac2-f3f3-a6986a03039e"
      },
      "outputs": [
        {
          "data": {
            "text/plain": [
              "(219294, 3)"
            ]
          },
          "execution_count": 274,
          "metadata": {},
          "output_type": "execute_result"
        }
      ],
      "source": [
        "data = pd.read_csv('file.csv')\n",
        "data.shape"
      ]
    },
    {
      "cell_type": "markdown",
      "metadata": {
        "id": "UAkNHBXahS5a"
      },
      "source": [
        "## 2. EDA"
      ]
    },
    {
      "cell_type": "code",
      "execution_count": 275,
      "metadata": {
        "colab": {
          "base_uri": "https://localhost:8080/"
        },
        "id": "u3z5pPXdxHFb",
        "outputId": "d199e52e-2bfa-4358-a245-bb829a74230d"
      },
      "outputs": [
        {
          "data": {
            "text/plain": [
              "Unnamed: 0    0\n",
              "tweets        0\n",
              "labels        0\n",
              "dtype: int64"
            ]
          },
          "execution_count": 275,
          "metadata": {},
          "output_type": "execute_result"
        }
      ],
      "source": [
        "data.isnull().sum()"
      ]
    },
    {
      "cell_type": "code",
      "execution_count": 276,
      "metadata": {
        "colab": {
          "base_uri": "https://localhost:8080/"
        },
        "id": "p2gxsihdfbTw",
        "outputId": "9ae9da97-0504-4596-c8eb-bb1af019635f"
      },
      "outputs": [
        {
          "name": "stdout",
          "output_type": "stream",
          "text": [
            "<class 'pandas.core.frame.DataFrame'>\n",
            "RangeIndex: 219294 entries, 0 to 219293\n",
            "Data columns (total 3 columns):\n",
            " #   Column      Non-Null Count   Dtype \n",
            "---  ------      --------------   ----- \n",
            " 0   Unnamed: 0  219294 non-null  int64 \n",
            " 1   tweets      219294 non-null  object\n",
            " 2   labels      219294 non-null  object\n",
            "dtypes: int64(1), object(2)\n",
            "memory usage: 5.0+ MB\n"
          ]
        }
      ],
      "source": [
        "data.info()"
      ]
    },
    {
      "cell_type": "code",
      "execution_count": 277,
      "metadata": {
        "colab": {
          "base_uri": "https://localhost:8080/",
          "height": 206
        },
        "id": "90ZywoduPazq",
        "outputId": "0e92ef15-2890-467d-bf57-7ebf5a1043b9"
      },
      "outputs": [
        {
          "data": {
            "application/vnd.google.colaboratory.intrinsic+json": {
              "type": "dataframe",
              "variable_name": "data"
            },
            "text/html": [
              "\n",
              "  <div id=\"df-62956ee7-451a-4cf0-bf87-30cfafa577ca\" class=\"colab-df-container\">\n",
              "    <div>\n",
              "<style scoped>\n",
              "    .dataframe tbody tr th:only-of-type {\n",
              "        vertical-align: middle;\n",
              "    }\n",
              "\n",
              "    .dataframe tbody tr th {\n",
              "        vertical-align: top;\n",
              "    }\n",
              "\n",
              "    .dataframe thead th {\n",
              "        text-align: right;\n",
              "    }\n",
              "</style>\n",
              "<table border=\"1\" class=\"dataframe\">\n",
              "  <thead>\n",
              "    <tr style=\"text-align: right;\">\n",
              "      <th></th>\n",
              "      <th>Unnamed: 0</th>\n",
              "      <th>tweets</th>\n",
              "      <th>labels</th>\n",
              "    </tr>\n",
              "  </thead>\n",
              "  <tbody>\n",
              "    <tr>\n",
              "      <th>0</th>\n",
              "      <td>0</td>\n",
              "      <td>ChatGPT: Optimizing Language Models for Dialog...</td>\n",
              "      <td>neutral</td>\n",
              "    </tr>\n",
              "    <tr>\n",
              "      <th>1</th>\n",
              "      <td>1</td>\n",
              "      <td>Try talking with ChatGPT, our new AI system wh...</td>\n",
              "      <td>good</td>\n",
              "    </tr>\n",
              "    <tr>\n",
              "      <th>2</th>\n",
              "      <td>2</td>\n",
              "      <td>ChatGPT: Optimizing Language Models for Dialog...</td>\n",
              "      <td>neutral</td>\n",
              "    </tr>\n",
              "    <tr>\n",
              "      <th>3</th>\n",
              "      <td>3</td>\n",
              "      <td>THRILLED to share that ChatGPT, our new model ...</td>\n",
              "      <td>good</td>\n",
              "    </tr>\n",
              "    <tr>\n",
              "      <th>4</th>\n",
              "      <td>4</td>\n",
              "      <td>As of 2 minutes ago, @OpenAI released their ne...</td>\n",
              "      <td>bad</td>\n",
              "    </tr>\n",
              "  </tbody>\n",
              "</table>\n",
              "</div>\n",
              "    <div class=\"colab-df-buttons\">\n",
              "\n",
              "  <div class=\"colab-df-container\">\n",
              "    <button class=\"colab-df-convert\" onclick=\"convertToInteractive('df-62956ee7-451a-4cf0-bf87-30cfafa577ca')\"\n",
              "            title=\"Convert this dataframe to an interactive table.\"\n",
              "            style=\"display:none;\">\n",
              "\n",
              "  <svg xmlns=\"http://www.w3.org/2000/svg\" height=\"24px\" viewBox=\"0 -960 960 960\">\n",
              "    <path d=\"M120-120v-720h720v720H120Zm60-500h600v-160H180v160Zm220 220h160v-160H400v160Zm0 220h160v-160H400v160ZM180-400h160v-160H180v160Zm440 0h160v-160H620v160ZM180-180h160v-160H180v160Zm440 0h160v-160H620v160Z\"/>\n",
              "  </svg>\n",
              "    </button>\n",
              "\n",
              "  <style>\n",
              "    .colab-df-container {\n",
              "      display:flex;\n",
              "      gap: 12px;\n",
              "    }\n",
              "\n",
              "    .colab-df-convert {\n",
              "      background-color: #E8F0FE;\n",
              "      border: none;\n",
              "      border-radius: 50%;\n",
              "      cursor: pointer;\n",
              "      display: none;\n",
              "      fill: #1967D2;\n",
              "      height: 32px;\n",
              "      padding: 0 0 0 0;\n",
              "      width: 32px;\n",
              "    }\n",
              "\n",
              "    .colab-df-convert:hover {\n",
              "      background-color: #E2EBFA;\n",
              "      box-shadow: 0px 1px 2px rgba(60, 64, 67, 0.3), 0px 1px 3px 1px rgba(60, 64, 67, 0.15);\n",
              "      fill: #174EA6;\n",
              "    }\n",
              "\n",
              "    .colab-df-buttons div {\n",
              "      margin-bottom: 4px;\n",
              "    }\n",
              "\n",
              "    [theme=dark] .colab-df-convert {\n",
              "      background-color: #3B4455;\n",
              "      fill: #D2E3FC;\n",
              "    }\n",
              "\n",
              "    [theme=dark] .colab-df-convert:hover {\n",
              "      background-color: #434B5C;\n",
              "      box-shadow: 0px 1px 3px 1px rgba(0, 0, 0, 0.15);\n",
              "      filter: drop-shadow(0px 1px 2px rgba(0, 0, 0, 0.3));\n",
              "      fill: #FFFFFF;\n",
              "    }\n",
              "  </style>\n",
              "\n",
              "    <script>\n",
              "      const buttonEl =\n",
              "        document.querySelector('#df-62956ee7-451a-4cf0-bf87-30cfafa577ca button.colab-df-convert');\n",
              "      buttonEl.style.display =\n",
              "        google.colab.kernel.accessAllowed ? 'block' : 'none';\n",
              "\n",
              "      async function convertToInteractive(key) {\n",
              "        const element = document.querySelector('#df-62956ee7-451a-4cf0-bf87-30cfafa577ca');\n",
              "        const dataTable =\n",
              "          await google.colab.kernel.invokeFunction('convertToInteractive',\n",
              "                                                    [key], {});\n",
              "        if (!dataTable) return;\n",
              "\n",
              "        const docLinkHtml = 'Like what you see? Visit the ' +\n",
              "          '<a target=\"_blank\" href=https://colab.research.google.com/notebooks/data_table.ipynb>data table notebook</a>'\n",
              "          + ' to learn more about interactive tables.';\n",
              "        element.innerHTML = '';\n",
              "        dataTable['output_type'] = 'display_data';\n",
              "        await google.colab.output.renderOutput(dataTable, element);\n",
              "        const docLink = document.createElement('div');\n",
              "        docLink.innerHTML = docLinkHtml;\n",
              "        element.appendChild(docLink);\n",
              "      }\n",
              "    </script>\n",
              "  </div>\n",
              "\n",
              "\n",
              "<div id=\"df-c0281295-0781-4058-96d7-d02ea4ea534e\">\n",
              "  <button class=\"colab-df-quickchart\" onclick=\"quickchart('df-c0281295-0781-4058-96d7-d02ea4ea534e')\"\n",
              "            title=\"Suggest charts\"\n",
              "            style=\"display:none;\">\n",
              "\n",
              "<svg xmlns=\"http://www.w3.org/2000/svg\" height=\"24px\"viewBox=\"0 0 24 24\"\n",
              "     width=\"24px\">\n",
              "    <g>\n",
              "        <path d=\"M19 3H5c-1.1 0-2 .9-2 2v14c0 1.1.9 2 2 2h14c1.1 0 2-.9 2-2V5c0-1.1-.9-2-2-2zM9 17H7v-7h2v7zm4 0h-2V7h2v10zm4 0h-2v-4h2v4z\"/>\n",
              "    </g>\n",
              "</svg>\n",
              "  </button>\n",
              "\n",
              "<style>\n",
              "  .colab-df-quickchart {\n",
              "      --bg-color: #E8F0FE;\n",
              "      --fill-color: #1967D2;\n",
              "      --hover-bg-color: #E2EBFA;\n",
              "      --hover-fill-color: #174EA6;\n",
              "      --disabled-fill-color: #AAA;\n",
              "      --disabled-bg-color: #DDD;\n",
              "  }\n",
              "\n",
              "  [theme=dark] .colab-df-quickchart {\n",
              "      --bg-color: #3B4455;\n",
              "      --fill-color: #D2E3FC;\n",
              "      --hover-bg-color: #434B5C;\n",
              "      --hover-fill-color: #FFFFFF;\n",
              "      --disabled-bg-color: #3B4455;\n",
              "      --disabled-fill-color: #666;\n",
              "  }\n",
              "\n",
              "  .colab-df-quickchart {\n",
              "    background-color: var(--bg-color);\n",
              "    border: none;\n",
              "    border-radius: 50%;\n",
              "    cursor: pointer;\n",
              "    display: none;\n",
              "    fill: var(--fill-color);\n",
              "    height: 32px;\n",
              "    padding: 0;\n",
              "    width: 32px;\n",
              "  }\n",
              "\n",
              "  .colab-df-quickchart:hover {\n",
              "    background-color: var(--hover-bg-color);\n",
              "    box-shadow: 0 1px 2px rgba(60, 64, 67, 0.3), 0 1px 3px 1px rgba(60, 64, 67, 0.15);\n",
              "    fill: var(--button-hover-fill-color);\n",
              "  }\n",
              "\n",
              "  .colab-df-quickchart-complete:disabled,\n",
              "  .colab-df-quickchart-complete:disabled:hover {\n",
              "    background-color: var(--disabled-bg-color);\n",
              "    fill: var(--disabled-fill-color);\n",
              "    box-shadow: none;\n",
              "  }\n",
              "\n",
              "  .colab-df-spinner {\n",
              "    border: 2px solid var(--fill-color);\n",
              "    border-color: transparent;\n",
              "    border-bottom-color: var(--fill-color);\n",
              "    animation:\n",
              "      spin 1s steps(1) infinite;\n",
              "  }\n",
              "\n",
              "  @keyframes spin {\n",
              "    0% {\n",
              "      border-color: transparent;\n",
              "      border-bottom-color: var(--fill-color);\n",
              "      border-left-color: var(--fill-color);\n",
              "    }\n",
              "    20% {\n",
              "      border-color: transparent;\n",
              "      border-left-color: var(--fill-color);\n",
              "      border-top-color: var(--fill-color);\n",
              "    }\n",
              "    30% {\n",
              "      border-color: transparent;\n",
              "      border-left-color: var(--fill-color);\n",
              "      border-top-color: var(--fill-color);\n",
              "      border-right-color: var(--fill-color);\n",
              "    }\n",
              "    40% {\n",
              "      border-color: transparent;\n",
              "      border-right-color: var(--fill-color);\n",
              "      border-top-color: var(--fill-color);\n",
              "    }\n",
              "    60% {\n",
              "      border-color: transparent;\n",
              "      border-right-color: var(--fill-color);\n",
              "    }\n",
              "    80% {\n",
              "      border-color: transparent;\n",
              "      border-right-color: var(--fill-color);\n",
              "      border-bottom-color: var(--fill-color);\n",
              "    }\n",
              "    90% {\n",
              "      border-color: transparent;\n",
              "      border-bottom-color: var(--fill-color);\n",
              "    }\n",
              "  }\n",
              "</style>\n",
              "\n",
              "  <script>\n",
              "    async function quickchart(key) {\n",
              "      const quickchartButtonEl =\n",
              "        document.querySelector('#' + key + ' button');\n",
              "      quickchartButtonEl.disabled = true;  // To prevent multiple clicks.\n",
              "      quickchartButtonEl.classList.add('colab-df-spinner');\n",
              "      try {\n",
              "        const charts = await google.colab.kernel.invokeFunction(\n",
              "            'suggestCharts', [key], {});\n",
              "      } catch (error) {\n",
              "        console.error('Error during call to suggestCharts:', error);\n",
              "      }\n",
              "      quickchartButtonEl.classList.remove('colab-df-spinner');\n",
              "      quickchartButtonEl.classList.add('colab-df-quickchart-complete');\n",
              "    }\n",
              "    (() => {\n",
              "      let quickchartButtonEl =\n",
              "        document.querySelector('#df-c0281295-0781-4058-96d7-d02ea4ea534e button');\n",
              "      quickchartButtonEl.style.display =\n",
              "        google.colab.kernel.accessAllowed ? 'block' : 'none';\n",
              "    })();\n",
              "  </script>\n",
              "</div>\n",
              "\n",
              "    </div>\n",
              "  </div>\n"
            ],
            "text/plain": [
              "   Unnamed: 0                                             tweets   labels\n",
              "0           0  ChatGPT: Optimizing Language Models for Dialog...  neutral\n",
              "1           1  Try talking with ChatGPT, our new AI system wh...     good\n",
              "2           2  ChatGPT: Optimizing Language Models for Dialog...  neutral\n",
              "3           3  THRILLED to share that ChatGPT, our new model ...     good\n",
              "4           4  As of 2 minutes ago, @OpenAI released their ne...      bad"
            ]
          },
          "execution_count": 277,
          "metadata": {},
          "output_type": "execute_result"
        }
      ],
      "source": [
        "data.head()"
      ]
    },
    {
      "cell_type": "code",
      "execution_count": 278,
      "metadata": {
        "colab": {
          "base_uri": "https://localhost:8080/",
          "height": 502
        },
        "id": "u20UoejUPYw3",
        "outputId": "42c26d53-269d-47d2-f4ee-ae0a1254769d"
      },
      "outputs": [
        {
          "data": {
            "text/plain": [
              "<Axes: xlabel='labels'>"
            ]
          },
          "execution_count": 278,
          "metadata": {},
          "output_type": "execute_result"
        },
        {
          "data": {
            "image/png": "[encoded data removed]",
            "text/plain": [
              "<Figure size 640x480 with 1 Axes>"
            ]
          },
          "metadata": {},
          "output_type": "display_data"
        }
      ],
      "source": [
        "data[\"labels\"].value_counts().plot(kind='bar')"
      ]
    },
    {
      "cell_type": "markdown",
      "metadata": {
        "id": "ECYtEHZdhXF3"
      },
      "source": [
        "## 3. Data Preprocess"
      ]
    },
    {
      "cell_type": "markdown",
      "metadata": {
        "id": "cGJUyv7p6C7t"
      },
      "source": [
        "### Data Split"
      ]
    },
    {
      "cell_type": "code",
      "execution_count": 294,
      "metadata": {
        "id": "KUel_2d69DE2"
      },
      "outputs": [],
      "source": [
        "#defining x and y\n",
        "# x = data['tweets']\n",
        "x=data.drop('labels',axis=1)\n",
        "y = data['labels']"
      ]
    },
    {
      "cell_type": "code",
      "execution_count": 295,
      "metadata": {
        "colab": {
          "base_uri": "https://localhost:8080/"
        },
        "id": "f7Aj8K5AA2dj",
        "outputId": "f6a9d0de-7085-470c-8c87-67f1c13cef51"
      },
      "outputs": [
        {
          "name": "stdout",
          "output_type": "stream",
          "text": [
            "Training set: (153505, 3)\n",
            "Validation set: (32894, 3)\n",
            "Test set: (32895, 3)\n"
          ]
        }
      ],
      "source": [
        "data = shuffle(data, random_state=42)  # Shuffle the dataset\n",
        "\n",
        "# Calculate the number of rows\n",
        "total_rows = len(data)\n",
        "\n",
        "# Define split ratios\n",
        "train_ratio = 0.70\n",
        "val_ratio = 0.15\n",
        "test_ratio = 0.15\n",
        "\n",
        "# Calculate the indices for each split\n",
        "train_end = int(total_rows * train_ratio)\n",
        "val_end = train_end + int(total_rows * val_ratio)\n",
        "\n",
        "# Split the dataset using iloc\n",
        "train = data.iloc[:train_end]\n",
        "val = data.iloc[train_end:val_end]\n",
        "test = data.iloc[val_end:]\n",
        "\n",
        "# Print the sizes of each set\n",
        "print(f'Training set: {train.shape}')\n",
        "print(f'Validation set: {val.shape}')\n",
        "print(f'Test set: {test.shape}')"
      ]
    },
    {
      "cell_type": "code",
      "execution_count": 303,
      "metadata": {
        "id": "whihsOkWqxvL"
      },
      "outputs": [],
      "source": [
        "import re\n",
        "import nltk\n",
        "from nltk import word_tokenize\n",
        "from nltk.tokenize import word_tokenize\n",
        "from nltk.corpus import stopwords\n",
        "from nltk.stem import WordNetLemmatizer\n",
        "import numpy as np"
      ]
    },
    {
      "cell_type": "code",
      "execution_count": 308,
      "metadata": {
        "id": "u8gEMBtWq9sd"
      },
      "outputs": [],
      "source": [
        "def process_text(tweets):\n",
        "    tweets = re.sub(r'\\s+', ' ', tweets, flags=re.I) #remove extra white space from tweets\n",
        "\n",
        "    tweets = re.sub(r'\\W', ' ', str(tweets)) #remove the special characters from tweets\n",
        "\n",
        "    tweets = re.sub(r'\\s+[a-zA-Z]\\s+', ' ', tweets) #remove the single characters\n",
        "\n",
        "    tweets = re.sub(r'[^a-zA-Z\\s]', '', tweets) #remove non alphabetical characters\n",
        "\n",
        "    tweets = tweets.lower() #convert tweets to lowercase\n",
        "\n",
        "    words = word_tokenize(tweets)\n",
        "\n",
        "    lemmatizer = WordNetLemmatizer()\n",
        "    words = [lemmatizer.lemmatize(word) for word in words]\n",
        "\n",
        "    stop_words = set(stopwords.words(\"english\"))\n",
        "    Words = [word for word in words if word not in stop_words]\n",
        "\n",
        "    Words = [word for word in Words if len(word) > 3]\n",
        "\n",
        "    indices = np.unique(Words, return_index=True)[1]\n",
        "    cleaned_text = np.array(Words)[np.sort(indices)].tolist()\n",
        "\n",
        "    return cleaned_text\n"
      ]
    },
    {
      "cell_type": "code",
      "execution_count": 309,
      "metadata": {
        "id": "WGC5f98ip65k"
      },
      "outputs": [],
      "source": [
        "texts = x['tweets'].tolist()"
      ]
    },
    {
      "cell_type": "code",
      "execution_count": 310,
      "metadata": {
        "id": "_LtDrufUqD3E"
      },
      "outputs": [],
      "source": [
        "cleaned_text = [process_text(tweets) for tweets in text] # Call 'process_text' instead of 'preprocess'"
      ]
    },
    {
      "cell_type": "code",
      "execution_count": 311,
      "metadata": {
        "colab": {
          "base_uri": "https://localhost:8080/"
        },
        "id": "w8rsuXqStV-U",
        "outputId": "cae1a625-e7e6-4302-bef1-62ba4f6895c8"
      },
      "outputs": [
        {
          "name": "stdout",
          "output_type": "stream",
          "text": [
            "[['chatgpt', 'optimizing', 'language', 'model', 'dialogue', 'http', 'krkrygyyn', 'openai'], ['talking', 'chatgpt', 'system', 'optimized', 'dialogue', 'feedback', 'help', 'improve', 'http', 'shdmgkr'], ['chatgpt', 'optimizing', 'language', 'model', 'dialogue', 'http', 'glebmoknw', 'machinelearning', 'datascience', 'artificialintelligence', 'ntrending', 'article', 'identified', 'digested', 'granola', 'machine', 'driven', 'ramsey', 'elbasheer', 'rprmaxup'], ['thrilled', 'share', 'chatgpt', 'model', 'optimized', 'dialog', 'public', 'free', 'accessible', 'everyone', 'http', 'dyvthecybd', 'ddhzhqhcbx', 'lqtlure'], ['minute', 'openai', 'released', 'chatgpt', 'nand', 'right', 'http', 'vypgpnw', 'csnhhm']]\n"
          ]
        }
      ],
      "source": [
        "print(cleaned_text[:5]) #preview of the cleaned tweets\n"
      ]
    },
    {
      "cell_type": "code",
      "execution_count": 313,
      "metadata": {
        "id": "5uw4rgUot9lq"
      },
      "outputs": [],
      "source": [
        "# from sklearn.model_selection import train_test_split\n",
        "train_x, test_x, train_y, test_y = train_test_split(cleaned_text, y, test_size=0.25, random_state=42)\n",
        "train_x, val_x, train_y, val_y = train_test_split(train_x, train_y, test_size=0.2, random_state=42)"
      ]
    },
    {
      "cell_type": "code",
      "execution_count": 314,
      "metadata": {
        "colab": {
          "base_uri": "https://localhost:8080/"
        },
        "id": "sv0Yg4mwtjDW",
        "outputId": "9def31fc-6b16-4789-cc78-867122cd9c66"
      },
      "outputs": [
        {
          "name": "stdout",
          "output_type": "stream",
          "text": [
            "the size of vocab = 246138\n"
          ]
        }
      ],
      "source": [
        "from tensorflow.keras.preprocessing.text import Tokenizer\n",
        "from tensorflow.keras.preprocessing.sequence import pad_sequences\n",
        "\n",
        "max_vocab = 20000\n",
        "tokenizer = Tokenizer(num_words=max_vocab)\n",
        "tokenizer.fit_on_texts(cleaned_text)\n",
        "word_idx = tokenizer.word_index  #corrected syntax for accessing word index\n",
        "v = len(word_idx)\n",
        "print(\"the size of vocab =\", v)  #corrected spacing\n",
        "train_x = tokenizer.texts_to_sequences(train_x)\n",
        "val_x = tokenizer.texts_to_sequences(val_x)\n",
        "test_x = tokenizer.texts_to_sequences(test_x)"
      ]
    },
    {
      "cell_type": "code",
      "execution_count": 319,
      "metadata": {
        "id": "QYPaTqA5ukrE"
      },
      "outputs": [],
      "source": [
        "from tensorflow.keras.preprocessing.sequence import pad_sequences\n",
        "##padding, so all the length will be the same\n",
        "max_len = 100\n",
        "train_x = pad_sequences(train_x,maxlen=maxlen)\n",
        "val_x = pad_sequences(val_x,maxlen=maxlen)\n",
        "test_x = pad_sequences(test_x,maxlen=maxlen)"
      ]
    },
    {
      "cell_type": "code",
      "execution_count": 320,
      "metadata": {
        "colab": {
          "base_uri": "https://localhost:8080/"
        },
        "id": "7Fy-N3VEu-ZL",
        "outputId": "d8c6d301-b14f-47a7-a7a9-109b5db4f8a8"
      },
      "outputs": [
        {
          "data": {
            "text/plain": [
              "labels\n",
              "bad        107796\n",
              "good        56011\n",
              "neutral     55487\n",
              "Name: count, dtype: int64"
            ]
          },
          "execution_count": 320,
          "metadata": {},
          "output_type": "execute_result"
        }
      ],
      "source": [
        "y.value_counts()"
      ]
    },
    {
      "cell_type": "code",
      "execution_count": 321,
      "metadata": {
        "colab": {
          "base_uri": "https://localhost:8080/"
        },
        "id": "8VRFxyKhvTBY",
        "outputId": "f04f2b40-4574-454c-9caf-9fd51f9995a9"
      },
      "outputs": [
        {
          "name": "stdout",
          "output_type": "stream",
          "text": [
            "(131576, 100) (131576,)\n",
            "(32894, 100) (32894,)\n"
          ]
        }
      ],
      "source": [
        "train_x = np.array(train_x)\n",
        "train_y = np.array(train_y)\n",
        "val_x = np.array(val_x)\n",
        "val_y = np.array(val_y)\n",
        "\n",
        "print(train_x.shape,train_y.shape)\n",
        "print(val_x.shape,val_y.shape)"
      ]
    },
    {
      "cell_type": "markdown",
      "metadata": {
        "id": "2--tGgam5iLi"
      },
      "source": [
        "### Encode the \"y\" variable"
      ]
    },
    {
      "cell_type": "code",
      "execution_count": 324,
      "metadata": {
        "id": "oDNeSnpnvkX-"
      },
      "outputs": [],
      "source": [
        "from sklearn.preprocessing import LabelEncoder\n",
        "\n",
        "label_encoder = LabelEncoder()\n",
        "y_train_encoded = label_encoder.fit_transform(train_y)\n",
        "y_val_encoded = label_encoder.transform(val_y)\n",
        "y_test_encoded = label_encoder.transform(test_y)"
      ]
    },
    {
      "cell_type": "code",
      "execution_count": 325,
      "metadata": {
        "id": "WZsPWPwYvoCK"
      },
      "outputs": [],
      "source": [
        "y_train_one_hot = tf.keras.utils.to_categorical(y_train_encoded)\n",
        "y_val_one_hot = tf.keras.utils.to_categorical(y_val_encoded)\n",
        "y_test_one_hot = tf.keras.utils.to_categorical(y_test_encoded)"
      ]
    },
    {
      "cell_type": "markdown",
      "metadata": {
        "id": "jm5-HjNu6anF"
      },
      "source": [
        "## 4. Train Model"
      ]
    },
    {
      "cell_type": "code",
      "execution_count": 343,
      "metadata": {
        "colab": {
          "base_uri": "https://localhost:8080/"
        },
        "id": "Bhz2bqJ9zXHq",
        "outputId": "d6ac4a08-5c7b-46f0-d2f3-58311afc8d7a"
      },
      "outputs": [
        {
          "name": "stdout",
          "output_type": "stream",
          "text": [
            "Model: \"sequential_25\"\n",
            "_________________________________________________________________\n",
            " Layer (type)                Output Shape              Param #   \n",
            "=================================================================\n",
            " embedding_23 (Embedding)    (None, 100, 100)          13157600  \n",
            "                                                                 \n",
            " bidirectional_23 (Bidirect  (None, 300)               301200    \n",
            " ional)                                                          \n",
            "                                                                 \n",
            " dense_23 (Dense)            (None, 3)                 903       \n",
            "                                                                 \n",
            "=================================================================\n",
            "Total params: 13459703 (51.34 MB)\n",
            "Trainable params: 13459703 (51.34 MB)\n",
            "Non-trainable params: 0 (0.00 Byte)\n",
            "_________________________________________________________________\n",
            "None\n"
          ]
        }
      ],
      "source": [
        "from sklearn.preprocessing import LabelEncoder\n",
        "import tensorflow as tf\n",
        "from tensorflow.keras.models import Sequential\n",
        "from tensorflow.keras.layers import Embedding, Bidirectional, LSTM, Dense\n",
        "from tensorflow.keras.optimizers import Adam\n",
        "from tensorflow.keras.callbacks import EarlyStopping\n",
        "\n",
        "# ... (your existing code for data preparation and model definition)\n",
        "\n",
        "learning_rate = 0.0001\n",
        "optimizer = Adam(learning_rate=learning_rate)\n",
        "from tensorflow.keras import backend as K\n",
        "\n",
        "def rmse(y_true, y_pred):\n",
        "    return K.sqrt(K.mean(K.square(y_pred - y_true)))\n",
        "\n",
        "def mape(y_true, y_pred):\n",
        "    # Use TensorFlow operations for compatibility\n",
        "    return K.mean(K.abs((y_true - y_pred) / y_true)) * 100\n",
        "\n",
        "print(model.summary())"
      ]
    },
    {
      "cell_type": "code",
      "execution_count": 344,
      "metadata": {
        "colab": {
          "base_uri": "https://localhost:8080/"
        },
        "id": "RTa1rkbj0-LN",
        "outputId": "6da27838-ad6d-417a-d60b-ca533c902069"
      },
      "outputs": [
        {
          "name": "stdout",
          "output_type": "stream",
          "text": [
            "Epoch 1/5\n",
            "4112/4112 [==============================] - 79s 18ms/step - loss: 0.9217 - rmse: 0.4272 - mape: inf - val_loss: 1.1608 - val_rmse: 0.4792 - val_mape: inf\n",
            "Epoch 2/5\n",
            "4112/4112 [==============================] - 59s 14ms/step - loss: 0.8989 - rmse: 0.4216 - mape: inf - val_loss: 1.1945 - val_rmse: 0.4833 - val_mape: inf\n",
            "Epoch 3/5\n",
            "4112/4112 [==============================] - 58s 14ms/step - loss: 0.8749 - rmse: 0.4156 - mape: inf - val_loss: 1.2156 - val_rmse: 0.4869 - val_mape: inf\n",
            "Epoch 4/5\n",
            "4112/4112 [==============================] - 58s 14ms/step - loss: 0.8516 - rmse: 0.4096 - mape: inf - val_loss: 1.2905 - val_rmse: 0.4938 - val_mape: inf\n",
            "Epoch 5/5\n",
            "4112/4112 [==============================] - 57s 14ms/step - loss: 0.8300 - rmse: 0.4042 - mape: inf - val_loss: 1.3423 - val_rmse: 0.4983 - val_mape: inf\n"
          ]
        }
      ],
      "source": [
        "model.compile(loss='categorical_crossentropy', optimizer=optimizer, metrics=[rmse, mape])\n",
        "\n",
        "history = model.fit(train_x, y_train_one_hot, epochs=5, validation_data=(val_x, y_val_one_hot))"
      ]
    },
    {
      "cell_type": "markdown",
      "metadata": {
        "id": "Tk2BZkwU4Gzr"
      },
      "source": [
        "For the training model, the loss is high, but both loss and val_loss are decresing by time, which mean they're learning quite well. Maybe if i do more epoch it'll resulting a better model. The RMSE number is not so bad, yet good, it also indicates there's around 40% gap between the predicted and the actual values. And lastly for MAPE, the metrics didn't give any output because there's must be something wrong with the function."
      ]
    },
    {
      "cell_type": "markdown",
      "metadata": {
        "id": "iPRn-4rG6dE9"
      },
      "source": [
        "## 5. Test Model"
      ]
    },
    {
      "cell_type": "code",
      "execution_count": 346,
      "metadata": {
        "colab": {
          "base_uri": "https://localhost:8080/"
        },
        "id": "tDQclaQCyk36",
        "outputId": "ec89866c-3f45-4041-936d-9cdd6dc123b7"
      },
      "outputs": [
        {
          "name": "stdout",
          "output_type": "stream",
          "text": [
            "1714/1714 [==============================] - 8s 5ms/step - loss: 1.3375 - rmse: 0.4987 - mape: inf\n",
            "Test Loss: 1.3374793529510498\n",
            "Test RMSE: 0.49865180253982544\n",
            "Test MAPE: inf\n"
          ]
        }
      ],
      "source": [
        "loss, rmse, mape = model.evaluate(test_x, y_test_one_hot)\n",
        "\n",
        "print(\"Test Loss:\", loss)\n",
        "print(\"Test RMSE:\", rmse)\n",
        "print(\"Test MAPE:\", mape)"
      ]
    },
    {
      "cell_type": "markdown",
      "metadata": {
        "id": "eGZBlzra5UFx"
      },
      "source": [
        "For the test mode, it looks like it resulting a poorer model than the training one."
      ]
    }
  ],
  "metadata": {
    "accelerator": "GPU",
    "colab": {
      "gpuType": "L4",
      "machine_shape": "hm",
      "provenance": []
    },
    "kernelspec": {
      "display_name": "Python 3",
      "name": "python3"
    },
    "language_info": {
      "name": "python"
    }
  },
  "nbformat": 4,
  "nbformat_minor": 0
}
